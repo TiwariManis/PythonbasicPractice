{
 "cells": [
  {
   "cell_type": "code",
   "execution_count": null,
   "metadata": {},
   "outputs": [],
   "source": [
    "# Download the driver "
   ]
  },
  {
   "cell_type": "code",
   "execution_count": 1,
   "metadata": {},
   "outputs": [
    {
     "name": "stdout",
     "output_type": "stream",
     "text": [
      "Collecting cassandra-driver\n",
      "  Downloading cassandra_driver-3.25.0-cp38-cp38-macosx_10_9_x86_64.whl (4.1 MB)\n",
      "\u001b[K     |████████████████████████████████| 4.1 MB 2.8 MB/s eta 0:00:01\n",
      "\u001b[?25hCollecting geomet<0.3,>=0.1\n",
      "  Downloading geomet-0.2.1.post1-py3-none-any.whl (18 kB)\n",
      "Requirement already satisfied: six>=1.9 in /Users/testtest/opt/anaconda3/lib/python3.8/site-packages (from cassandra-driver) (1.15.0)\n",
      "Requirement already satisfied: click in /Users/testtest/opt/anaconda3/lib/python3.8/site-packages (from geomet<0.3,>=0.1->cassandra-driver) (7.1.2)\n",
      "Installing collected packages: geomet, cassandra-driver\n",
      "Successfully installed cassandra-driver-3.25.0 geomet-0.2.1.post1\n"
     ]
    }
   ],
   "source": [
    "!pip install cassandra-driver"
   ]
  },
  {
   "cell_type": "code",
   "execution_count": null,
   "metadata": {},
   "outputs": [],
   "source": [
    "#import the CASSANDRA library"
   ]
  },
  {
   "cell_type": "code",
   "execution_count": 9,
   "metadata": {},
   "outputs": [
    {
     "name": "stdout",
     "output_type": "stream",
     "text": [
      "3.25.0\n"
     ]
    }
   ],
   "source": [
    "import cassandra \n",
    "print (cassandra.__version__)"
   ]
  },
  {
   "cell_type": "code",
   "execution_count": null,
   "metadata": {},
   "outputs": [],
   "source": [
    "#Establisg the connection with CASSANDRA Cloud."
   ]
  },
  {
   "cell_type": "code",
   "execution_count": 93,
   "metadata": {},
   "outputs": [
    {
     "name": "stdout",
     "output_type": "stream",
     "text": [
      "4.0.0.6813\n"
     ]
    }
   ],
   "source": [
    "from cassandra.cluster import Cluster\n",
    "from cassandra.auth import PlainTextAuthProvider\n",
    "\n",
    "cloud_config= {\n",
    "        'secure_connect_bundle': '/Users/testtest/MySQL/Cassandra/secure-connect-Manish.zip'\n",
    "}\n",
    "auth_provider = PlainTextAuthProvider('fOCYuCIpINLwbltMboQFxOpz','uyGfGOwti+kGjbT.pWXEJ8aG+m1wtbZkF9Ekn9ah+4qmb+5l65idjqYFKOZBq+Z_ucLAUrxc4UNDA.2fvBGhW.NU4LohZC31khZWi5f5nf0inoNKZjIgerrFHG59G9_E')\n",
    "cluster = Cluster(cloud=cloud_config, auth_provider=auth_provider)\n",
    "session = cluster.connect()\n",
    "\n",
    "row = session.execute(\"select release_version from system.local\").one()\n",
    "if row:\n",
    "    print(row[0])\n",
    "else:\n",
    "    print(\"An error occurred.\")"
   ]
  },
  {
   "cell_type": "code",
   "execution_count": 9,
   "metadata": {},
   "outputs": [
    {
     "data": {
      "text/plain": [
       "'/Users/testtest/MySQL/Cassandra'"
      ]
     },
     "execution_count": 9,
     "metadata": {},
     "output_type": "execute_result"
    }
   ],
   "source": [
    "pwd"
   ]
  },
  {
   "cell_type": "code",
   "execution_count": 10,
   "metadata": {},
   "outputs": [
    {
     "name": "stdout",
     "output_type": "stream",
     "text": [
      "Cassandra.ipynb            secure-connect-manish.zip\r\n"
     ]
    }
   ],
   "source": [
    "ls"
   ]
  },
  {
   "cell_type": "code",
   "execution_count": null,
   "metadata": {},
   "outputs": [],
   "source": [
    "# Creating Key Space.\n",
    "\n",
    "row = session.execute(\"CREATE KEYSPACE test WITH replication = {'class': 'SimpleStrategy', 'replication_factor' : 3}\").one()\n",
    "print(row)"
   ]
  },
  {
   "cell_type": "code",
   "execution_count": 20,
   "metadata": {},
   "outputs": [
    {
     "name": "stdout",
     "output_type": "stream",
     "text": [
      "Row(keyspace_name='system_auth', durable_writes=True, graph_engine=None, replication=OrderedMapSerializedKey([('class', 'org.apache.cassandra.locator.NetworkTopologyStrategy'), ('us-east-1', '3')]))\n"
     ]
    }
   ],
   "source": [
    "# lets list all the exiating keyspace \n",
    "\n",
    "row = session.execute(\"SELECT * from system_schema.keyspaces\").one()\n",
    "print(row)"
   ]
  },
  {
   "cell_type": "code",
   "execution_count": 29,
   "metadata": {},
   "outputs": [
    {
     "name": "stdout",
     "output_type": "stream",
     "text": [
      "None\n"
     ]
    }
   ],
   "source": [
    "# creating table\n",
    "\n",
    "from cassandra.cluster import Cluster\n",
    "from cassandra.auth import PlainTextAuthProvider\n",
    "\n",
    "cloud_config= {\n",
    "        'secure_connect_bundle': '/Users/testtest/MySQL/Cassandra/secure-connect-Manish.zip'\n",
    "}\n",
    "auth_provider = PlainTextAuthProvider('fOCYuCIpINLwbltMboQFxOpz','uyGfGOwti+kGjbT.pWXEJ8aG+m1wtbZkF9Ekn9ah+4qmb+5l65idjqYFKOZBq+Z_ucLAUrxc4UNDA.2fvBGhW.NU4LohZC31khZWi5f5nf0inoNKZjIgerrFHG59G9_E')\n",
    "cluster = Cluster(cloud=cloud_config, auth_provider=auth_provider)\n",
    "session = cluster.connect()\n",
    "\n",
    "row = session.execute(\"CREATE TABLE test.emp_1(emp_id int PRIMARY KEY,emp_name text,emp_city text,emp_sal varint,emp_phone varint);\").one()\n",
    "print(row)"
   ]
  },
  {
   "cell_type": "code",
   "execution_count": 32,
   "metadata": {},
   "outputs": [
    {
     "name": "stdout",
     "output_type": "stream",
     "text": [
      "None\n"
     ]
    }
   ],
   "source": [
    "#inserting data into table \n",
    "\n",
    "row = session.execute(\"insert into test.emp(emp_id,emp_city,emp_name,emp_phone)values(1234,'bangalore','manish',213131);\").one()\n",
    "print(row)"
   ]
  },
  {
   "cell_type": "code",
   "execution_count": 38,
   "metadata": {},
   "outputs": [
    {
     "name": "stdout",
     "output_type": "stream",
     "text": [
      "None\n"
     ]
    }
   ],
   "source": [
    "row = session.execute(\"insert into test.emp(emp_id,emp_city,emp_name,emp_phone,emp_sal)values(2234,'Delhi','Sunil',12345,10000);\").one()\n",
    "row = session.execute(\"insert into test.emp(emp_id,emp_city,emp_name,emp_phone,emp_sal)values(3334,'Patna','Ankit',342134,20000);\").one()\n",
    "row = session.execute(\"insert into test.emp(emp_id,emp_city,emp_name,emp_phone,emp_sal)values(4434,'Bombay','Rajeev',324567,30000);\").one()\n",
    "row = session.execute(\"insert into test.emp(emp_id,emp_city,emp_name,emp_phone,emp_sal)values(5534,'Bhopal','Sanjeev',765456,40000);\").one()\n",
    "row = session.execute(\"insert into test.emp(emp_id,emp_city,emp_name,emp_phone,emp_sal)values(6634,'Pune','Santosh',987654,50000);\").one()\n",
    "print(row)"
   ]
  },
  {
   "cell_type": "code",
   "execution_count": 37,
   "metadata": {},
   "outputs": [
    {
     "name": "stdout",
     "output_type": "stream",
     "text": [
      "None\n"
     ]
    }
   ],
   "source": [
    "row = session.execute(\"insert into test.emp(emp_id,emp_city,emp_name,emp_phone,emp_sal)values(2234,'London','Gray',12345,90000);\").one()\n",
    "row = session.execute(\"insert into test.emp(emp_id,emp_city,emp_name,emp_phone,emp_sal)values(3334,'Paris','Paul',342134,26000);\").one()\n",
    "row = session.execute(\"insert into test.emp(emp_id,emp_city,emp_name,emp_phone,emp_sal)values(4434,'Wuhan','Rajeev',324567,65000);\").one()\n",
    "row = session.execute(\"insert into test.emp(emp_id,emp_city,emp_name,emp_phone,emp_sal)values(5534,'Phillipines','Dave',765456,72000);\").one()\n",
    "row = session.execute(\"insert into test.emp(emp_id,emp_city,emp_name,emp_phone,emp_sal)values(6634,'Gaza','Fajar',987654,51000);\").one()\n",
    "print(row)"
   ]
  },
  {
   "cell_type": "code",
   "execution_count": 44,
   "metadata": {},
   "outputs": [
    {
     "name": "stdout",
     "output_type": "stream",
     "text": [
      "emp_id: 2234, city:Delhi, name:Sunil, phone:12345,sal:10000 \n",
      "emp_id: 4434, city:Wuhan, name:Rajeev, phone:324567,sal:65000 \n",
      "emp_id: 3334, city:Paris, name:Paul, phone:342134,sal:26000 \n",
      "emp_id: 5534, city:Phillipines, name:Dave, phone:765456,sal:72000 \n",
      "emp_id: 6634, city:Gaza, name:Fajar, phone:987654,sal:51000 \n",
      "emp_id: 1234, city:bangalore, name:manish, phone:213131,sal:None \n"
     ]
    }
   ],
   "source": [
    "rows=session.execute(\"select * from test.emp;\")\n",
    "for row in rows:\n",
    "    \n",
    "    print ('emp_id: {}, city:{}, name:{}, phone:{},sal:{} '.format(row[0],row[1], row[2], row[3],row[4]))"
   ]
  },
  {
   "cell_type": "code",
   "execution_count": 3,
   "metadata": {},
   "outputs": [
    {
     "name": "stdout",
     "output_type": "stream",
     "text": [
      "None\n"
     ]
    }
   ],
   "source": [
    "row = session.execute(\"insert into test.emp(emp_id,emp_city,emp_name,emp_phone,emp_sal)values(8976,'Patna','Sanjeev',879610,10000);\").one()\n",
    "print(row)"
   ]
  },
  {
   "cell_type": "code",
   "execution_count": 6,
   "metadata": {},
   "outputs": [
    {
     "name": "stdout",
     "output_type": "stream",
     "text": [
      "StudentID: 2234 Name:Delhi Age:Sunil Marks:12345\n",
      "StudentID: 4434 Name:Wuhan Age:Rajeev Marks:324567\n",
      "StudentID: 8976 Name:Patna Age:Sanjeev Marks:879610\n",
      "StudentID: 3334 Name:Paris Age:Paul Marks:342134\n",
      "StudentID: 5534 Name:Phillipines Age:Dave Marks:765456\n",
      "StudentID: 6634 Name:Gaza Age:Fajar Marks:987654\n",
      "StudentID: 1234 Name:bangalore Age:manish Marks:213131\n"
     ]
    }
   ],
   "source": [
    "rows=session.execute(\"select * from test.emp;\")\n",
    "\n",
    "for row in rows:\n",
    "    #print(row)\n",
    "    print ('StudentID: {} Name:{} Age:{} Marks:{}'.format(row[0],row[1], row[2], row[3]))"
   ]
  },
  {
   "cell_type": "code",
   "execution_count": 19,
   "metadata": {},
   "outputs": [
    {
     "name": "stdout",
     "output_type": "stream",
     "text": [
      "emp_id: 2234, City:Delhi, Name:Sunil ,Phone:12345,Salary10000\n",
      "emp_id: 8976, City:Patna, Name:Sanjeev ,Phone:879610,Salary10000\n"
     ]
    }
   ],
   "source": [
    "#session.execute(\"CREATE INDEX ON test.emp(emp_sal); \")\n",
    "\n",
    "rows=session.execute(\"select * from test.emp WHERE emp_sal = 10000 ;\")\n",
    "for row in rows:\n",
    "   \n",
    "    print ('emp_id: {}, City:{}, Name:{} ,Phone:{},Salary{}'.format(row[0],row[1], row[2], row[3],row[4]))"
   ]
  },
  {
   "cell_type": "code",
   "execution_count": 55,
   "metadata": {},
   "outputs": [],
   "source": [
    "rows = session.execute(\"select * from test.emp WHERE emp_id = 2234 and emp_city = 'delhi' ALLOW FILTERING ;\")\n",
    "\n",
    "for row in rows:\n",
    "    print(row)\n",
    "    #print(\"Emp_id:{},City:{},Name:{},Phone:{},Salary:{}\".format(row[0],row[1],row[2],row[3],row[4]))"
   ]
  },
  {
   "cell_type": "code",
   "execution_count": 53,
   "metadata": {},
   "outputs": [
    {
     "name": "stdout",
     "output_type": "stream",
     "text": [
      "Row(count=7)\n"
     ]
    }
   ],
   "source": [
    "rows = session.execute(\"select count(*) from test.emp ;\")\n",
    "\n",
    "for i in rows:\n",
    "    \n",
    "    print(i)"
   ]
  },
  {
   "cell_type": "code",
   "execution_count": 40,
   "metadata": {},
   "outputs": [
    {
     "name": "stdout",
     "output_type": "stream",
     "text": [
      "Row(system_min_emp_sal=10000)\n"
     ]
    }
   ],
   "source": [
    "rows = session.execute(\"select min(emp_sal) from test.emp ;\")\n",
    "\n",
    "for i in rows:\n",
    "    print(i)"
   ]
  },
  {
   "cell_type": "code",
   "execution_count": 42,
   "metadata": {},
   "outputs": [
    {
     "name": "stdout",
     "output_type": "stream",
     "text": [
      "Row(system_avg_emp_sal=39000)\n"
     ]
    }
   ],
   "source": [
    "rows = session.execute(\"select AVG(emp_sal) from test.emp ;\")\n",
    "\n",
    "for i in rows:\n",
    "    print(i)"
   ]
  },
  {
   "cell_type": "code",
   "execution_count": 44,
   "metadata": {},
   "outputs": [
    {
     "name": "stdout",
     "output_type": "stream",
     "text": [
      "Row(system_sum_emp_sal=234000)\n"
     ]
    }
   ],
   "source": [
    "rows = session.execute(\"select SUM(emp_sal) from test.emp ;\")\n",
    "\n",
    "for i in rows:\n",
    "    print(i)"
   ]
  },
  {
   "cell_type": "code",
   "execution_count": 47,
   "metadata": {},
   "outputs": [
    {
     "name": "stdout",
     "output_type": "stream",
     "text": [
      "Row(emp_id=3334, emp_city='Paris', emp_name='Paul', emp_phone=342134, emp_sal=26000)\n",
      "Row(emp_id=6634, emp_city='Gaza', emp_name='Fajar', emp_phone=987654, emp_sal=51000)\n"
     ]
    }
   ],
   "source": [
    "rows = session.execute(\"select * from test.emp WHERE emp_id in (3334,6634,234) ;\")\n",
    "\n",
    "for i in rows:\n",
    "    print(i)\n",
    "   # print((\"Emp_id:{},City:{},Name:{},Phone:{},Salary:{}\".format(row[0],row[1],row[2],row[3],row[4])))"
   ]
  },
  {
   "cell_type": "code",
   "execution_count": 57,
   "metadata": {},
   "outputs": [
    {
     "name": "stdout",
     "output_type": "stream",
     "text": [
      "Row(emp_id=2234, emp_city='Delhi', emp_name='Sunil', emp_phone=12345, emp_sal=10000)\n",
      "Row(emp_id=4434, emp_city='Wuhan', emp_name='Rajeev', emp_phone=324567, emp_sal=65000)\n",
      "Row(emp_id=8976, emp_city='Patna', emp_name='Sanjeev', emp_phone=879610, emp_sal=10000)\n",
      "Row(emp_id=3334, emp_city='Paris', emp_name='Paul', emp_phone=342134, emp_sal=26000)\n"
     ]
    }
   ],
   "source": [
    "rows = session.execute(\"select * from test.emp limit 4 ALLOW FILTERING ;\")\n",
    "\n",
    "for i in rows:\n",
    "    print(i)"
   ]
  },
  {
   "cell_type": "code",
   "execution_count": 62,
   "metadata": {},
   "outputs": [
    {
     "name": "stdout",
     "output_type": "stream",
     "text": [
      "Row(emp_id=4434, emp_city='Wuhan', emp_name='Rajeev', emp_phone=324567, emp_sal=65000)\n",
      "Row(emp_id=3334, emp_city='Paris', emp_name='Paul', emp_phone=342134, emp_sal=26000)\n",
      "Row(emp_id=5534, emp_city='Phillipines', emp_name='Dave', emp_phone=765456, emp_sal=72000)\n",
      "Row(emp_id=6634, emp_city='Gaza', emp_name='Fajar', emp_phone=987654, emp_sal=51000)\n"
     ]
    }
   ],
   "source": [
    "rows = session.execute(\"select * from test.emp where emp_sal>10000 ;\")\n",
    "\n",
    "for i in rows:\n",
    "    print(i)"
   ]
  },
  {
   "cell_type": "code",
   "execution_count": 78,
   "metadata": {},
   "outputs": [],
   "source": [
    "rows = session.execute(\"select * from test.emp where emp_name= 's%' ALLOW FILTERINg ;\").one()\n",
    "\n",
    "#for i in rows:\n",
    "#    print(i)"
   ]
  },
  {
   "cell_type": "code",
   "execution_count": 79,
   "metadata": {},
   "outputs": [
    {
     "ename": "InvalidRequest",
     "evalue": "Error from server: code=2200 [Invalid query] message=\"Order by is currently only supported on the clustered columns of the PRIMARY KEY, got emp_sal\"",
     "output_type": "error",
     "traceback": [
      "\u001b[0;31m---------------------------------------------------------------------------\u001b[0m",
      "\u001b[0;31mInvalidRequest\u001b[0m                            Traceback (most recent call last)",
      "\u001b[0;32m<ipython-input-79-f52056c58f41>\u001b[0m in \u001b[0;36m<module>\u001b[0;34m\u001b[0m\n\u001b[0;32m----> 1\u001b[0;31m \u001b[0mrows\u001b[0m\u001b[0;34m=\u001b[0m\u001b[0msession\u001b[0m\u001b[0;34m.\u001b[0m\u001b[0mexecute\u001b[0m\u001b[0;34m(\u001b[0m\u001b[0;34m\"select * from test.emp where emp_id = 2234 AND emp_name = 'sunil' ORDER BY emp_sal ALLOW  filtering;\"\u001b[0m\u001b[0;34m)\u001b[0m\u001b[0;34m.\u001b[0m\u001b[0mone\u001b[0m\u001b[0;34m(\u001b[0m\u001b[0;34m)\u001b[0m\u001b[0;34m\u001b[0m\u001b[0;34m\u001b[0m\u001b[0m\n\u001b[0m\u001b[1;32m      2\u001b[0m \u001b[0;31m#for row in rows:\u001b[0m\u001b[0;34m\u001b[0m\u001b[0;34m\u001b[0m\u001b[0;34m\u001b[0m\u001b[0m\n\u001b[1;32m      3\u001b[0m   \u001b[0;31m#  print(row)\u001b[0m\u001b[0;34m\u001b[0m\u001b[0;34m\u001b[0m\u001b[0;34m\u001b[0m\u001b[0m\n\u001b[1;32m      4\u001b[0m     \u001b[0;31m#print ('StudentID: {} Name:{} Age:{} Marks:{}'.format(row[0],row[1], row[2], row[3]))\u001b[0m\u001b[0;34m\u001b[0m\u001b[0;34m\u001b[0m\u001b[0;34m\u001b[0m\u001b[0m\n",
      "\u001b[0;32m~/opt/anaconda3/lib/python3.8/site-packages/cassandra/cluster.cpython-38-darwin.so\u001b[0m in \u001b[0;36mcassandra.cluster.Session.execute\u001b[0;34m()\u001b[0m\n",
      "\u001b[0;32m~/opt/anaconda3/lib/python3.8/site-packages/cassandra/cluster.cpython-38-darwin.so\u001b[0m in \u001b[0;36mcassandra.cluster.ResponseFuture.result\u001b[0;34m()\u001b[0m\n",
      "\u001b[0;31mInvalidRequest\u001b[0m: Error from server: code=2200 [Invalid query] message=\"Order by is currently only supported on the clustered columns of the PRIMARY KEY, got emp_sal\""
     ]
    }
   ],
   "source": [
    "rows=session.execute(\"select * from test.emp where emp_id = 2234 AND emp_name = 'sunil' ORDER BY emp_sal ALLOW  filtering;\").one()\n",
    "#for row in rows:\n",
    "  #  print(row)\n",
    "    #print ('StudentID: {} Name:{} Age:{} Marks:{}'.format(row[0],row[1], row[2], row[3]))"
   ]
  },
  {
   "cell_type": "code",
   "execution_count": 81,
   "metadata": {},
   "outputs": [
    {
     "name": "stdout",
     "output_type": "stream",
     "text": [
      "deleted\n"
     ]
    }
   ],
   "source": [
    "session.execute(\"delete from test.emp where emp_id = 5534 ;\")\n",
    "print(\"deleted\")"
   ]
  },
  {
   "cell_type": "code",
   "execution_count": 83,
   "metadata": {},
   "outputs": [
    {
     "name": "stdout",
     "output_type": "stream",
     "text": [
      "Row(emp_id=2234, emp_city='Delhi', emp_name='Sunil', emp_phone=12345, emp_sal=10000)\n",
      "Row(emp_id=4434, emp_city='Wuhan', emp_name='Rajeev', emp_phone=324567, emp_sal=65000)\n",
      "Row(emp_id=8976, emp_city='Patna', emp_name='Sanjeev', emp_phone=879610, emp_sal=10000)\n",
      "Row(emp_id=3334, emp_city='Paris', emp_name='Paul', emp_phone=342134, emp_sal=26000)\n",
      "Row(emp_id=6634, emp_city='Gaza', emp_name='Fajar', emp_phone=987654, emp_sal=51000)\n",
      "Row(emp_id=1234, emp_city='bangalore', emp_name='manish', emp_phone=213131, emp_sal=None)\n"
     ]
    }
   ],
   "source": [
    "rows = session.execute(\"select * from test.emp\")\n",
    "\n",
    "for row in rows:\n",
    "    print(row)"
   ]
  },
  {
   "cell_type": "code",
   "execution_count": 84,
   "metadata": {},
   "outputs": [
    {
     "name": "stdout",
     "output_type": "stream",
     "text": [
      "excetion occured  Error from server: code=2100 [Unauthorized] message=\"Missing correct permission on test1.\"\n"
     ]
    }
   ],
   "source": [
    "# Drop keyspace\n",
    "try:\n",
    "    query = \"DROP KEYSPACE test1\"\n",
    "    session.execute(query)\n",
    "    print('Keyspace test1 dropped.')\n",
    "except Exception as e:\n",
    "    print('excetion occured ',e)"
   ]
  },
  {
   "cell_type": "code",
   "execution_count": 87,
   "metadata": {},
   "outputs": [
    {
     "name": "stdout",
     "output_type": "stream",
     "text": [
      "excetion occured  Error from server: code=2100 [Unauthorized] message=\"Missing correct permission on test1.\"\n"
     ]
    }
   ],
   "source": [
    "# Alter Keyspace\n",
    "try:\n",
    "    query = \"ALTER KEYSPACE test1 WITH replication = {'class':'SimpleStrategy', 'replication_factor' : 1};\"\n",
    "    session.execute(query)\n",
    "    print('Keyspace altered.')\n",
    "except Exception as e:\n",
    "    print('excetion occured ',e)"
   ]
  },
  {
   "cell_type": "code",
   "execution_count": 108,
   "metadata": {},
   "outputs": [
    {
     "name": "stdout",
     "output_type": "stream",
     "text": [
      "Table altered.\n"
     ]
    }
   ],
   "source": [
    "# Alter Table add column\n",
    "try:\n",
    "    query = \"ALTER TABLE test.emp ADD email set<text> \"\n",
    "    session.execute(query)\n",
    "    print('Table altered.')\n",
    "except Exception as e:\n",
    "    print('excetion occured ',e)"
   ]
  },
  {
   "cell_type": "code",
   "execution_count": 90,
   "metadata": {},
   "outputs": [
    {
     "name": "stdout",
     "output_type": "stream",
     "text": [
      "Table altered.\n"
     ]
    }
   ],
   "source": [
    "try:\n",
    "    query = \"ALTER TABLE test.emp ADD address set<text>\"\n",
    "    session.execute(query)\n",
    "    print('Table altered.')\n",
    "except Exception as e:\n",
    "    print('excetion occured ',e)"
   ]
  },
  {
   "cell_type": "code",
   "execution_count": 104,
   "metadata": {},
   "outputs": [
    {
     "name": "stdout",
     "output_type": "stream",
     "text": [
      "Table altered.\n"
     ]
    }
   ],
   "source": [
    "# Alter Table drop column\n",
    "try:\n",
    "    query = \"ALTER TABLE test.emp DROP email\"\n",
    "    session.execute(query)\n",
    "    print('Table altered.')\n",
    "except Exception as e:\n",
    "    print('excetion occured ',e)"
   ]
  },
  {
   "cell_type": "code",
   "execution_count": 91,
   "metadata": {},
   "outputs": [
    {
     "name": "stdout",
     "output_type": "stream",
     "text": [
      "Table created.\n"
     ]
    }
   ],
   "source": [
    "# Creating Table\n",
    "try:\n",
    "    query = \"\"\"CREATE TABLE test.manish( \n",
    "               emp_id int PRIMARY KEY,\n",
    "               emp_name text,\n",
    "               emp_city text,\n",
    "               emp_sal varint,\n",
    "               emp_phone varint)\n",
    "            \"\"\"\n",
    "    session.execute(query)\n",
    "    print('Table created.')\n",
    "except Exception as e:\n",
    "    print('excetion occured ',e)"
   ]
  },
  {
   "cell_type": "code",
   "execution_count": 92,
   "metadata": {},
   "outputs": [
    {
     "name": "stdout",
     "output_type": "stream",
     "text": [
      "errors={'5506fe8d-63a7-467f-be63-c6d0f569a3de-us-east-1.db.astra.datastax.com:29042:9a21374d-bd0d-49af-a5e2-ceb04e6d25c5': 'Client request timeout. See Session.execute[_async](timeout)'}, last_host=5506fe8d-63a7-467f-be63-c6d0f569a3de-us-east-1.db.astra.datastax.com:29042:9a21374d-bd0d-49af-a5e2-ceb04e6d25c5\n"
     ]
    }
   ],
   "source": [
    "try:\n",
    "    query = \"DROP table test.manish\"\n",
    "    session.execute(query)\n",
    "    print(\"Tables dropped\")\n",
    "    \n",
    "except Exception as e:\n",
    "    print(e)"
   ]
  },
  {
   "cell_type": "code",
   "execution_count": 97,
   "metadata": {},
   "outputs": [
    {
     "name": "stdout",
     "output_type": "stream",
     "text": [
      "All done! Bye, For Now\n"
     ]
    },
    {
     "data": {
      "image/png": "[encoded data removed]",
      "text/plain": [
       "<IPython.core.display.Image object>"
      ]
     },
     "execution_count": 97,
     "metadata": {
      "image/png": {
       "height": 300,
       "width": 900
      }
     },
     "output_type": "execute_result"
    }
   ],
   "source": [
    "# Actually table has been dropped \n",
    "# image from CASSANDRA cloud workbech\n",
    "\n",
    "from IPython.display import Image\n",
    "\n",
    "print(\"All done! Bye, For Now\")\n",
    "\n",
    "# Load image from local storage\n",
    "Image(filename = \"screen.png\", width = 900, height = 300)"
   ]
  },
  {
   "cell_type": "code",
   "execution_count": 100,
   "metadata": {},
   "outputs": [
    {
     "name": "stdout",
     "output_type": "stream",
     "text": [
      "Index created.\n"
     ]
    }
   ],
   "source": [
    "# Creating index on table\n",
    "try:\n",
    "    query = \"CREATE INDEX emp_index on test.emp(emp_city)\"\n",
    "    session.execute(query)\n",
    "    print('Index created.')\n",
    "except Exception as e:\n",
    "    print('excetion occured ',e)"
   ]
  },
  {
   "cell_type": "code",
   "execution_count": null,
   "metadata": {},
   "outputs": [],
   "source": []
  },
  {
   "cell_type": "code",
   "execution_count": 109,
   "metadata": {},
   "outputs": [
    {
     "name": "stdout",
     "output_type": "stream",
     "text": [
      "excetion occured  Error from server: code=2200 [Invalid query] message=\"Invalid STRING constant (manish@gmail.com) for \"email\" of type set<text>\"\n"
     ]
    }
   ],
   "source": [
    "# Update record from table\n",
    "try:\n",
    "    query = \"UPDATE test.emp SET email='manish@gmail.com' WHERE emp_id=1234 ;\"\n",
    "    session.execute(query)\n",
    "    print('record updated')\n",
    "except Exception as e:\n",
    "    print('excetion occured ',e)"
   ]
  },
  {
   "cell_type": "code",
   "execution_count": 117,
   "metadata": {},
   "outputs": [
    {
     "name": "stdout",
     "output_type": "stream",
     "text": [
      "record updated\n"
     ]
    }
   ],
   "source": [
    "# Update table to add emails\n",
    "try:\n",
    "    emails = {'manish5@gmail.com'}\n",
    "    query = \"UPDATE test.emp SET email={} WHERE emp_id= 6634\".format(emails)\n",
    "    session.execute(query)\n",
    "    print('record updated')\n",
    "except Exception as e:\n",
    "    print('excetion occured ',e)"
   ]
  },
  {
   "cell_type": "code",
   "execution_count": null,
   "metadata": {},
   "outputs": [],
   "source": []
  }
 ],
 "metadata": {
  "kernelspec": {
   "display_name": "Python 3",
   "language": "python",
   "name": "python3"
  },
  "language_info": {
   "codemirror_mode": {
    "name": "ipython",
    "version": 3
   },
   "file_extension": ".py",
   "mimetype": "text/x-python",
   "name": "python",
   "nbconvert_exporter": "python",
   "pygments_lexer": "ipython3",
   "version": "3.8.5"
  }
 },
 "nbformat": 4,
 "nbformat_minor": 4
}
