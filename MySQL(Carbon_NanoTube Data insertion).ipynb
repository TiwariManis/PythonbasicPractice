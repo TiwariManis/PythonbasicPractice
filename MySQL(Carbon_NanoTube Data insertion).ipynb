{
 "cells": [
  {
   "cell_type": "code",
   "execution_count": 5,
   "metadata": {},
   "outputs": [],
   "source": [
    "import csv "
   ]
  },
  {
   "cell_type": "markdown",
   "metadata": {},
   "source": [
    "# Reading the raw Carbon nanotube raw dataset"
   ]
  },
  {
   "cell_type": "code",
   "execution_count": 18,
   "metadata": {},
   "outputs": [],
   "source": [
    "#lets split the data with delimiter\n",
    "\n",
    "data_in_lst3 = []\n",
    "\n",
    "with open(\"carbon_nanotubes.csv\", \"r\") as data:  # \"Carbon_Nanotube.csv\n",
    "    \n",
    "    data = csv.reader(data , delimiter= \"\\n\")\n",
    "    #print(data)\n",
    "    for i in data:\n",
    "        data_in_lst3.append(i[0].split(';'))"
   ]
  },
  {
   "cell_type": "code",
   "execution_count": 2,
   "metadata": {},
   "outputs": [
    {
     "name": "stdout",
     "output_type": "stream",
     "text": [
      "19.2.MySQL.ipynb\r\n",
      "\u001b[30m\u001b[43mImp files\u001b[m\u001b[m/\r\n",
      "MYSQL application.docx\r\n",
      "MYSQL application.pdf\r\n",
      "MySQL(Carbon_NanoTube Data insertion).ipynb\r\n",
      "MySQL(Data Insertion from file).ipynb\r\n",
      "MySQL.ipynb\r\n",
      "Practice(MySQL).ipynb\r\n",
      "Untitled.ipynb\r\n",
      "carbon_nanotubes.csv\r\n",
      "glass.data\r\n",
      "\u001b[30m\u001b[43mimgs\u001b[m\u001b[m/\r\n"
     ]
    }
   ],
   "source": [
    "ls"
   ]
  },
  {
   "cell_type": "markdown",
   "metadata": {},
   "source": [
    "# writing the updated data in to csv file"
   ]
  },
  {
   "cell_type": "code",
   "execution_count": 19,
   "metadata": {},
   "outputs": [],
   "source": [
    "## writing the updated data in to csv file\n",
    "with open('CarbonUpdatedFile.csv', 'w', newline='') as data:\n",
    "    writer = csv.writer(data)\n",
    "    writer.writerows(data_in_lst3)"
   ]
  },
  {
   "cell_type": "markdown",
   "metadata": {},
   "source": [
    "# Creating DataBase in MySQL"
   ]
  },
  {
   "cell_type": "code",
   "execution_count": 7,
   "metadata": {},
   "outputs": [
    {
     "name": "stdout",
     "output_type": "stream",
     "text": [
      "<bound method MySQLConnection.is_connected of <mysql.connector.connection.MySQLConnection object at 0x7f83eb65e550>>\n",
      "Database created!!\n"
     ]
    }
   ],
   "source": [
    "import mysql.connector as connection\n",
    "#import pandas as pandas\n",
    "#import csv\n",
    "\n",
    "try:\n",
    "    \n",
    "    mydb = connection.connect(host= \"localhost\", user=\"root\",passwd=\"mysql123\",use_pure = True)\n",
    "    print(mydb.is_connected)\n",
    "    \n",
    "    query = \"create database CarbonNanoTube;\"\n",
    "    cursor= mydb.cursor() #create cursor to execute queries\n",
    "    cursor.execute(query)\n",
    "    print(\"Database created!!\")\n",
    "    \n",
    "except Exception as e:\n",
    "    mydb.close()\n",
    "    print(str(e))\n"
   ]
  },
  {
   "cell_type": "code",
   "execution_count": 2,
   "metadata": {},
   "outputs": [],
   "source": [
    "import mysql.connector as connection\n",
    "mydb = connection.connect(host= \"localhost\", user=\"root\",passwd=\"mysql123\",use_pure = True)"
   ]
  },
  {
   "cell_type": "markdown",
   "metadata": {},
   "source": [
    "# Creating Table"
   ]
  },
  {
   "cell_type": "code",
   "execution_count": 8,
   "metadata": {},
   "outputs": [
    {
     "name": "stdout",
     "output_type": "stream",
     "text": [
      "CREATE TABLE CarbonNanoTube.NanoTubeDetails (Chiralindicen INT,Chiralindicem INT,Initialatomiccoordinateu varchar(20), Initialatomiccoordinatev varchar(20),Initialatomiccoordinatew varchar(20), Calculatedatomiccoordinatesu varchar(20), Calculatedatomiccoordinatesv varchar(20),Calculatedatomiccoordinatesw varchar(20));\n"
     ]
    }
   ],
   "source": [
    "query = \"CREATE TABLE CarbonNanoTube.NanoTubeDetails (Chiralindicen INT,Chiralindicem INT,Initialatomiccoordinateu varchar(20), Initialatomiccoordinatev varchar(20),Initialatomiccoordinatew varchar(20), Calculatedatomiccoordinatesu varchar(20), Calculatedatomiccoordinatesv varchar(20),Calculatedatomiccoordinatesw varchar(20));\"\n",
    "print(query)"
   ]
  },
  {
   "cell_type": "code",
   "execution_count": 10,
   "metadata": {},
   "outputs": [
    {
     "name": "stdout",
     "output_type": "stream",
     "text": [
      "Table Created!! \n",
      " Thank You!!\n"
     ]
    }
   ],
   "source": [
    "cursor = mydb.cursor()  #create cursor to execute queries\n",
    "cursor.execute(query)\n",
    "print(\"Table Created!!\",\"\\n Thank You!!\")"
   ]
  },
  {
   "cell_type": "markdown",
   "metadata": {},
   "source": [
    "# Inserting data into Table"
   ]
  },
  {
   "cell_type": "code",
   "execution_count": 8,
   "metadata": {},
   "outputs": [
    {
     "name": "stdout",
     "output_type": "stream",
     "text": [
      "<_csv.reader object at 0x7fc1823fdb30>\n",
      "Values inserted Successfully!!\n"
     ]
    }
   ],
   "source": [
    "with open(\"CarbonUpdatedFile.csv\",'r') as data:\n",
    "    #next(data)\n",
    "    data_csv = csv.reader(data,delimiter = \"\\n\")\n",
    "    next(data_csv)\n",
    "    print(data_csv)\n",
    "    \n",
    "    for j in data_csv:\n",
    "        query = \"INSERT INTO CarbonNanoTube.NanoTubeDetails values ({});\".format(', '.join([value for value in j]))\n",
    "        cursor.execute(query)\n",
    "        mydb.commit()\n",
    "mydb.close()\n",
    "print(\"Values inserted Successfully!!\")\n"
   ]
  },
  {
   "cell_type": "code",
   "execution_count": 3,
   "metadata": {},
   "outputs": [
    {
     "data": {
      "text/plain": [
       "True"
      ]
     },
     "execution_count": 3,
     "metadata": {},
     "output_type": "execute_result"
    }
   ],
   "source": [
    "mydb.is_connected()"
   ]
  },
  {
   "cell_type": "code",
   "execution_count": null,
   "metadata": {},
   "outputs": [],
   "source": []
  }
 ],
 "metadata": {
  "kernelspec": {
   "display_name": "Python 3",
   "language": "python",
   "name": "python3"
  },
  "language_info": {
   "codemirror_mode": {
    "name": "ipython",
    "version": 3
   },
   "file_extension": ".py",
   "mimetype": "text/x-python",
   "name": "python",
   "nbconvert_exporter": "python",
   "pygments_lexer": "ipython3",
   "version": "3.8.5"
  }
 },
 "nbformat": 4,
 "nbformat_minor": 4
}
